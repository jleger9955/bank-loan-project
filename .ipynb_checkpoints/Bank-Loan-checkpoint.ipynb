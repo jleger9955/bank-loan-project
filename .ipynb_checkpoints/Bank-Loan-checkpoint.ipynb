{
 "cells": [
  {
   "cell_type": "code",
   "execution_count": 83,
   "metadata": {},
   "outputs": [],
   "source": [
    "from sklearn.linear_model import LogisticRegression\n",
    "import numpy as np\n",
    "import matplotlib.pyplot as plt\n",
    "from sklearn.metrics import accuracy_score, precision_score, recall_score, confusion_matrix, roc_curve, roc_auc_score, classification_report, log_loss, make_scorer\n",
    "import seaborn as sn\n",
    "import pandas as pd\n",
    "from sklearn.preprocessing import StandardScaler\n",
    "from sklearn.model_selection import GridSearchCV, train_test_split\n",
    "import sklearn"
   ]
  },
  {
   "cell_type": "markdown",
   "metadata": {},
   "source": [
    "## EDA"
   ]
  },
  {
   "cell_type": "code",
   "execution_count": 84,
   "metadata": {},
   "outputs": [
    {
     "data": {
      "text/html": [
       "<div>\n",
       "<style scoped>\n",
       "    .dataframe tbody tr th:only-of-type {\n",
       "        vertical-align: middle;\n",
       "    }\n",
       "\n",
       "    .dataframe tbody tr th {\n",
       "        vertical-align: top;\n",
       "    }\n",
       "\n",
       "    .dataframe thead th {\n",
       "        text-align: right;\n",
       "    }\n",
       "</style>\n",
       "<table border=\"1\" class=\"dataframe\">\n",
       "  <thead>\n",
       "    <tr style=\"text-align: right;\">\n",
       "      <th></th>\n",
       "      <th>Interest.Rate</th>\n",
       "      <th>FICO.Score</th>\n",
       "      <th>Loan.Length</th>\n",
       "      <th>Monthly.Income</th>\n",
       "      <th>Loan.Amount</th>\n",
       "    </tr>\n",
       "  </thead>\n",
       "  <tbody>\n",
       "    <tr>\n",
       "      <th>6</th>\n",
       "      <td>15.31</td>\n",
       "      <td>670.0</td>\n",
       "      <td>36</td>\n",
       "      <td>4891.67</td>\n",
       "      <td>6000</td>\n",
       "    </tr>\n",
       "    <tr>\n",
       "      <th>11</th>\n",
       "      <td>19.72</td>\n",
       "      <td>670.0</td>\n",
       "      <td>36</td>\n",
       "      <td>3575.00</td>\n",
       "      <td>2000</td>\n",
       "    </tr>\n",
       "    <tr>\n",
       "      <th>12</th>\n",
       "      <td>14.27</td>\n",
       "      <td>665.0</td>\n",
       "      <td>36</td>\n",
       "      <td>4250.00</td>\n",
       "      <td>10625</td>\n",
       "    </tr>\n",
       "    <tr>\n",
       "      <th>13</th>\n",
       "      <td>21.67</td>\n",
       "      <td>670.0</td>\n",
       "      <td>60</td>\n",
       "      <td>14166.67</td>\n",
       "      <td>28000</td>\n",
       "    </tr>\n",
       "    <tr>\n",
       "      <th>21</th>\n",
       "      <td>21.98</td>\n",
       "      <td>665.0</td>\n",
       "      <td>36</td>\n",
       "      <td>6666.67</td>\n",
       "      <td>22000</td>\n",
       "    </tr>\n",
       "  </tbody>\n",
       "</table>\n",
       "</div>"
      ],
      "text/plain": [
       "    Interest.Rate  FICO.Score  Loan.Length  Monthly.Income  Loan.Amount\n",
       "6           15.31       670.0           36         4891.67         6000\n",
       "11          19.72       670.0           36         3575.00         2000\n",
       "12          14.27       665.0           36         4250.00        10625\n",
       "13          21.67       670.0           60        14166.67        28000\n",
       "21          21.98       665.0           36         6666.67        22000"
      ]
     },
     "execution_count": 84,
     "metadata": {},
     "output_type": "execute_result"
    }
   ],
   "source": [
    "df = pd.read_csv('loan.csv')\n",
    "df.head()"
   ]
  },
  {
   "cell_type": "code",
   "execution_count": 85,
   "metadata": {},
   "outputs": [
    {
     "name": "stdout",
     "output_type": "stream",
     "text": [
      "<class 'pandas.core.frame.DataFrame'>\n",
      "Int64Index: 2500 entries, 6 to 2497\n",
      "Data columns (total 5 columns):\n",
      "Interest.Rate     2497 non-null float64\n",
      "FICO.Score        2499 non-null float64\n",
      "Loan.Length       2500 non-null int64\n",
      "Monthly.Income    2495 non-null float64\n",
      "Loan.Amount       2500 non-null int64\n",
      "dtypes: float64(3), int64(2)\n",
      "memory usage: 117.2 KB\n"
     ]
    }
   ],
   "source": [
    "df.info()"
   ]
  },
  {
   "cell_type": "code",
   "execution_count": 86,
   "metadata": {},
   "outputs": [
    {
     "data": {
      "text/html": [
       "<div>\n",
       "<style scoped>\n",
       "    .dataframe tbody tr th:only-of-type {\n",
       "        vertical-align: middle;\n",
       "    }\n",
       "\n",
       "    .dataframe tbody tr th {\n",
       "        vertical-align: top;\n",
       "    }\n",
       "\n",
       "    .dataframe thead th {\n",
       "        text-align: right;\n",
       "    }\n",
       "</style>\n",
       "<table border=\"1\" class=\"dataframe\">\n",
       "  <thead>\n",
       "    <tr style=\"text-align: right;\">\n",
       "      <th></th>\n",
       "      <th>count</th>\n",
       "      <th>mean</th>\n",
       "      <th>std</th>\n",
       "      <th>min</th>\n",
       "      <th>25%</th>\n",
       "      <th>50%</th>\n",
       "      <th>75%</th>\n",
       "      <th>max</th>\n",
       "    </tr>\n",
       "  </thead>\n",
       "  <tbody>\n",
       "    <tr>\n",
       "      <th>Interest.Rate</th>\n",
       "      <td>2497.0</td>\n",
       "      <td>13.067521</td>\n",
       "      <td>4.180074</td>\n",
       "      <td>5.42</td>\n",
       "      <td>10.16</td>\n",
       "      <td>13.11</td>\n",
       "      <td>15.8</td>\n",
       "      <td>24.89</td>\n",
       "    </tr>\n",
       "    <tr>\n",
       "      <th>FICO.Score</th>\n",
       "      <td>2499.0</td>\n",
       "      <td>705.870348</td>\n",
       "      <td>35.029051</td>\n",
       "      <td>640.00</td>\n",
       "      <td>680.00</td>\n",
       "      <td>700.00</td>\n",
       "      <td>725.0</td>\n",
       "      <td>830.00</td>\n",
       "    </tr>\n",
       "    <tr>\n",
       "      <th>Loan.Length</th>\n",
       "      <td>2500.0</td>\n",
       "      <td>41.260800</td>\n",
       "      <td>9.930893</td>\n",
       "      <td>36.00</td>\n",
       "      <td>36.00</td>\n",
       "      <td>36.00</td>\n",
       "      <td>36.0</td>\n",
       "      <td>60.00</td>\n",
       "    </tr>\n",
       "    <tr>\n",
       "      <th>Monthly.Income</th>\n",
       "      <td>2495.0</td>\n",
       "      <td>5690.259599</td>\n",
       "      <td>3964.704795</td>\n",
       "      <td>588.50</td>\n",
       "      <td>3500.00</td>\n",
       "      <td>5000.00</td>\n",
       "      <td>6800.0</td>\n",
       "      <td>102750.00</td>\n",
       "    </tr>\n",
       "    <tr>\n",
       "      <th>Loan.Amount</th>\n",
       "      <td>2500.0</td>\n",
       "      <td>12406.500000</td>\n",
       "      <td>7801.544872</td>\n",
       "      <td>1000.00</td>\n",
       "      <td>6000.00</td>\n",
       "      <td>10000.00</td>\n",
       "      <td>17000.0</td>\n",
       "      <td>35000.00</td>\n",
       "    </tr>\n",
       "  </tbody>\n",
       "</table>\n",
       "</div>"
      ],
      "text/plain": [
       "                 count          mean          std      min      25%       50%  \\\n",
       "Interest.Rate   2497.0     13.067521     4.180074     5.42    10.16     13.11   \n",
       "FICO.Score      2499.0    705.870348    35.029051   640.00   680.00    700.00   \n",
       "Loan.Length     2500.0     41.260800     9.930893    36.00    36.00     36.00   \n",
       "Monthly.Income  2495.0   5690.259599  3964.704795   588.50  3500.00   5000.00   \n",
       "Loan.Amount     2500.0  12406.500000  7801.544872  1000.00  6000.00  10000.00   \n",
       "\n",
       "                    75%        max  \n",
       "Interest.Rate      15.8      24.89  \n",
       "FICO.Score        725.0     830.00  \n",
       "Loan.Length        36.0      60.00  \n",
       "Monthly.Income   6800.0  102750.00  \n",
       "Loan.Amount     17000.0   35000.00  "
      ]
     },
     "execution_count": 86,
     "metadata": {},
     "output_type": "execute_result"
    }
   ],
   "source": [
    "df.describe().T"
   ]
  },
  {
   "cell_type": "code",
   "execution_count": 87,
   "metadata": {},
   "outputs": [
    {
     "data": {
      "image/png": "[encoded data removed]",
      "text/plain": [
       "<Figure size 432x288 with 6 Axes>"
      ]
     },
     "metadata": {
      "needs_background": "light"
     },
     "output_type": "display_data"
    }
   ],
   "source": [
    "df.hist();"
   ]
  },
  {
   "cell_type": "code",
   "execution_count": 88,
   "metadata": {},
   "outputs": [],
   "source": [
    "df = df[(df['Monthly.Income'].notna()) & (df['Interest.Rate'].notna()) & (df['FICO.Score'].notna())].copy()"
   ]
  },
  {
   "cell_type": "code",
   "execution_count": 89,
   "metadata": {},
   "outputs": [],
   "source": [
    "df['Int_Rate_Class'] = (df['Interest.Rate'] <= 9.0).astype('int8')"
   ]
  },
  {
   "cell_type": "code",
   "execution_count": 90,
   "metadata": {},
   "outputs": [
    {
     "name": "stdout",
     "output_type": "stream",
     "text": [
      "<class 'pandas.core.frame.DataFrame'>\n",
      "Int64Index: 2492 entries, 6 to 2497\n",
      "Data columns (total 6 columns):\n",
      "Interest.Rate     2492 non-null float64\n",
      "FICO.Score        2492 non-null float64\n",
      "Loan.Length       2492 non-null int64\n",
      "Monthly.Income    2492 non-null float64\n",
      "Loan.Amount       2492 non-null int64\n",
      "Int_Rate_Class    2492 non-null int8\n",
      "dtypes: float64(3), int64(2), int8(1)\n",
      "memory usage: 119.2 KB\n"
     ]
    }
   ],
   "source": [
    "df.info()"
   ]
  },
  {
   "cell_type": "markdown",
   "metadata": {},
   "source": [
    "## Split & Scale"
   ]
  },
  {
   "cell_type": "code",
   "execution_count": 91,
   "metadata": {},
   "outputs": [],
   "source": [
    "y = df['Int_Rate_Class']\n",
    "X = df.drop(columns=['Int_Rate_Class','Interest.Rate'])"
   ]
  },
  {
   "cell_type": "code",
   "execution_count": 92,
   "metadata": {},
   "outputs": [
    {
     "data": {
      "text/html": [
       "<div>\n",
       "<style scoped>\n",
       "    .dataframe tbody tr th:only-of-type {\n",
       "        vertical-align: middle;\n",
       "    }\n",
       "\n",
       "    .dataframe tbody tr th {\n",
       "        vertical-align: top;\n",
       "    }\n",
       "\n",
       "    .dataframe thead th {\n",
       "        text-align: right;\n",
       "    }\n",
       "</style>\n",
       "<table border=\"1\" class=\"dataframe\">\n",
       "  <thead>\n",
       "    <tr style=\"text-align: right;\">\n",
       "      <th></th>\n",
       "      <th>FICO.Score</th>\n",
       "      <th>Loan.Length</th>\n",
       "      <th>Monthly.Income</th>\n",
       "      <th>Loan.Amount</th>\n",
       "    </tr>\n",
       "  </thead>\n",
       "  <tbody>\n",
       "    <tr>\n",
       "      <th>6</th>\n",
       "      <td>670.0</td>\n",
       "      <td>36</td>\n",
       "      <td>4891.67</td>\n",
       "      <td>6000</td>\n",
       "    </tr>\n",
       "    <tr>\n",
       "      <th>11</th>\n",
       "      <td>670.0</td>\n",
       "      <td>36</td>\n",
       "      <td>3575.00</td>\n",
       "      <td>2000</td>\n",
       "    </tr>\n",
       "    <tr>\n",
       "      <th>12</th>\n",
       "      <td>665.0</td>\n",
       "      <td>36</td>\n",
       "      <td>4250.00</td>\n",
       "      <td>10625</td>\n",
       "    </tr>\n",
       "    <tr>\n",
       "      <th>13</th>\n",
       "      <td>670.0</td>\n",
       "      <td>60</td>\n",
       "      <td>14166.67</td>\n",
       "      <td>28000</td>\n",
       "    </tr>\n",
       "    <tr>\n",
       "      <th>21</th>\n",
       "      <td>665.0</td>\n",
       "      <td>36</td>\n",
       "      <td>6666.67</td>\n",
       "      <td>22000</td>\n",
       "    </tr>\n",
       "  </tbody>\n",
       "</table>\n",
       "</div>"
      ],
      "text/plain": [
       "    FICO.Score  Loan.Length  Monthly.Income  Loan.Amount\n",
       "6        670.0           36         4891.67         6000\n",
       "11       670.0           36         3575.00         2000\n",
       "12       665.0           36         4250.00        10625\n",
       "13       670.0           60        14166.67        28000\n",
       "21       665.0           36         6666.67        22000"
      ]
     },
     "execution_count": 92,
     "metadata": {},
     "output_type": "execute_result"
    }
   ],
   "source": [
    "X.head()"
   ]
  },
  {
   "cell_type": "code",
   "execution_count": 93,
   "metadata": {},
   "outputs": [
    {
     "name": "stderr",
     "output_type": "stream",
     "text": [
      "c:\\users\\erajoc7\\appdata\\local\\programs\\python\\python37\\lib\\site-packages\\sklearn\\preprocessing\\data.py:645: DataConversionWarning: Data with input dtype int64, float64 were all converted to float64 by StandardScaler.\n",
      "  return self.partial_fit(X, y)\n",
      "c:\\users\\erajoc7\\appdata\\local\\programs\\python\\python37\\lib\\site-packages\\ipykernel_launcher.py:3: DataConversionWarning: Data with input dtype int64, float64 were all converted to float64 by StandardScaler.\n",
      "  This is separate from the ipykernel package so we can avoid doing imports until\n",
      "c:\\users\\erajoc7\\appdata\\local\\programs\\python\\python37\\lib\\site-packages\\ipykernel_launcher.py:4: DataConversionWarning: Data with input dtype int64, float64 were all converted to float64 by StandardScaler.\n",
      "  after removing the cwd from sys.path.\n"
     ]
    }
   ],
   "source": [
    "X_train, X_test, y_train, y_test = train_test_split(X, y, test_size=0.33, random_state=21)\n",
    "scalar = StandardScaler().fit(X_train)\n",
    "X_train = scalar.transform(X_train)\n",
    "X_test = scalar.transform(X_test)"
   ]
  },
  {
   "cell_type": "markdown",
   "metadata": {},
   "source": [
    "## Basic Linear Regression"
   ]
  },
  {
   "cell_type": "code",
   "execution_count": 94,
   "metadata": {},
   "outputs": [],
   "source": [
    "model = LogisticRegression(solver='lbfgs').fit(X_train, y_train)"
   ]
  },
  {
   "cell_type": "code",
   "execution_count": 95,
   "metadata": {},
   "outputs": [],
   "source": [
    "y_hat = model.predict(X_test)\n",
    "p_hat = model.predict_proba(X_test)[:,1]"
   ]
  },
  {
   "cell_type": "code",
   "execution_count": 96,
   "metadata": {},
   "outputs": [
    {
     "data": {
      "text/plain": [
       "0.2374295653088984"
      ]
     },
     "execution_count": 96,
     "metadata": {},
     "output_type": "execute_result"
    }
   ],
   "source": [
    "log_loss(y_test, p_hat)"
   ]
  },
  {
   "cell_type": "code",
   "execution_count": 97,
   "metadata": {},
   "outputs": [
    {
     "data": {
      "text/plain": [
       "(0.7679222357229647, 0.8918590522478737)"
      ]
     },
     "execution_count": 97,
     "metadata": {},
     "output_type": "execute_result"
    }
   ],
   "source": [
    "baseline = 1 - (y_test.sum() / y_test.size)\n",
    "accuracy = accuracy_score(y_test, y_hat)\n",
    "baseline, accuracy"
   ]
  },
  {
   "cell_type": "code",
   "execution_count": 98,
   "metadata": {},
   "outputs": [
    {
     "data": {
      "text/plain": [
       "0.81875"
      ]
     },
     "execution_count": 98,
     "metadata": {},
     "output_type": "execute_result"
    }
   ],
   "source": [
    "# TP / (TP + FP) # type 1 errors\n",
    "precision_score(y_test, y_hat)"
   ]
  },
  {
   "cell_type": "code",
   "execution_count": 99,
   "metadata": {},
   "outputs": [
    {
     "data": {
      "text/plain": [
       "0.6858638743455497"
      ]
     },
     "execution_count": 99,
     "metadata": {},
     "output_type": "execute_result"
    }
   ],
   "source": [
    "# TP / (TP + FN) # type 2 errors\n",
    "recall_score(y_test, y_hat)"
   ]
  },
  {
   "cell_type": "markdown",
   "metadata": {},
   "source": [
    "## Grid Search"
   ]
  },
  {
   "cell_type": "code",
   "execution_count": 100,
   "metadata": {},
   "outputs": [
    {
     "data": {
      "text/plain": [
       "GridSearchCV(cv=5, error_score='raise-deprecating',\n",
       "       estimator=LogisticRegression(C=1.0, class_weight=None, dual=False, fit_intercept=True,\n",
       "          intercept_scaling=1, max_iter=100, multi_class='warn',\n",
       "          n_jobs=None, penalty='l2', random_state=None, solver='warn',\n",
       "          tol=0.0001, verbose=0, warm_start=False),\n",
       "       fit_params=None, iid='warn', n_jobs=4,\n",
       "       param_grid={'penalty': ['l2'], 'solver': ['newton-cg', 'lbfgs', 'liblinear', 'sag', 'saga'], 'fit_intercept': [True, False], 'C': array([1.00000e-03, 1.32571e-03, 1.75751e-03, 2.32995e-03, 3.08884e-03,\n",
       "       4.09492e-03, 5.42868e-03, 7.19686e-03, 9.54095e-03, 1.26486e-02,\n",
       "       1.67683e-02, 2.2230... 1.84207e+02, 2.44205e+02,\n",
       "       3.23746e+02, 4.29193e+02, 5.68987e+02, 7.54312e+02, 1.00000e+03])},\n",
       "       pre_dispatch='2*n_jobs', refit=True, return_train_score='warn',\n",
       "       scoring='neg_log_loss', verbose=0)"
      ]
     },
     "execution_count": 100,
     "metadata": {},
     "output_type": "execute_result"
    }
   ],
   "source": [
    "params = {\n",
    "          'penalty': ['l2'], \n",
    "          'solver': ['newton-cg', 'lbfgs', 'liblinear', 'sag', 'saga'],\n",
    "          'fit_intercept': [True, False],\n",
    "          'C': np.logspace(-3,3)\n",
    "         }\n",
    "gs = GridSearchCV(LogisticRegression(), param_grid=params, scoring='neg_log_loss', cv=5, n_jobs=4).fit(X_train, y_train)\n",
    "gs"
   ]
  },
  {
   "cell_type": "code",
   "execution_count": 101,
   "metadata": {},
   "outputs": [
    {
     "data": {
      "text/plain": [
       "{'C': 0.49417133613238334,\n",
       " 'fit_intercept': True,\n",
       " 'penalty': 'l2',\n",
       " 'solver': 'saga'}"
      ]
     },
     "execution_count": 101,
     "metadata": {},
     "output_type": "execute_result"
    }
   ],
   "source": [
    "gs.best_params_"
   ]
  },
  {
   "cell_type": "markdown",
   "metadata": {},
   "source": [
    "## Final Results"
   ]
  },
  {
   "cell_type": "code",
   "execution_count": 102,
   "metadata": {},
   "outputs": [],
   "source": [
    "fin_model = LogisticRegression(**gs.best_params_).fit(X_train, y_train)"
   ]
  },
  {
   "cell_type": "code",
   "execution_count": 103,
   "metadata": {},
   "outputs": [],
   "source": [
    "y_hat_fin = fin_model.predict(X_test)\n",
    "p_hat_fin = fin_model.predict_proba(X_test)[:,1]"
   ]
  },
  {
   "cell_type": "code",
   "execution_count": 104,
   "metadata": {},
   "outputs": [
    {
     "data": {
      "text/plain": [
       "0.23843690966561082"
      ]
     },
     "execution_count": 104,
     "metadata": {},
     "output_type": "execute_result"
    }
   ],
   "source": [
    "log_loss(y_test, p_hat_fin)"
   ]
  },
  {
   "cell_type": "code",
   "execution_count": 105,
   "metadata": {},
   "outputs": [
    {
     "data": {
      "text/plain": [
       "(0.7679222357229647, 0.8930741190765492)"
      ]
     },
     "execution_count": 105,
     "metadata": {},
     "output_type": "execute_result"
    }
   ],
   "source": [
    "baseline = 1 - (y_test.sum() / y_test.size)\n",
    "accuracy = accuracy_score(y_test, y_hat_fin)\n",
    "baseline, accuracy"
   ]
  },
  {
   "cell_type": "code",
   "execution_count": 106,
   "metadata": {},
   "outputs": [
    {
     "data": {
      "text/plain": [
       "0.8238993710691824"
      ]
     },
     "execution_count": 106,
     "metadata": {},
     "output_type": "execute_result"
    }
   ],
   "source": [
    "# TP / (TP + FP) # type 1 errors\n",
    "precision_score(y_test, y_hat_fin)"
   ]
  },
  {
   "cell_type": "code",
   "execution_count": 107,
   "metadata": {},
   "outputs": [
    {
     "data": {
      "text/plain": [
       "0.6858638743455497"
      ]
     },
     "execution_count": 107,
     "metadata": {},
     "output_type": "execute_result"
    }
   ],
   "source": [
    "# TP / (TP + FN) # type 2 errors\n",
    "recall_score(y_test, y_hat_fin)"
   ]
  },
  {
   "cell_type": "code",
   "execution_count": 112,
   "metadata": {},
   "outputs": [
    {
     "data": {
      "text/plain": [
       "array([[604,  28],\n",
       "       [ 60, 131]], dtype=int64)"
      ]
     },
     "execution_count": 112,
     "metadata": {},
     "output_type": "execute_result"
    }
   ],
   "source": [
    "cm = confusion_matrix(y_test, y_hat_fin)\n",
    "cm"
   ]
  },
  {
   "cell_type": "code",
   "execution_count": 114,
   "metadata": {},
   "outputs": [
    {
     "data": {
      "text/html": [
       "<div>\n",
       "<style scoped>\n",
       "    .dataframe tbody tr th:only-of-type {\n",
       "        vertical-align: middle;\n",
       "    }\n",
       "\n",
       "    .dataframe tbody tr th {\n",
       "        vertical-align: top;\n",
       "    }\n",
       "\n",
       "    .dataframe thead th {\n",
       "        text-align: right;\n",
       "    }\n",
       "</style>\n",
       "<table border=\"1\" class=\"dataframe\">\n",
       "  <thead>\n",
       "    <tr style=\"text-align: right;\">\n",
       "      <th></th>\n",
       "      <th>Actually &gt; 9%</th>\n",
       "      <th>Actually &lt;= 9%</th>\n",
       "    </tr>\n",
       "  </thead>\n",
       "  <tbody>\n",
       "    <tr>\n",
       "      <th>Predict &gt; 9%</th>\n",
       "      <td>604</td>\n",
       "      <td>28</td>\n",
       "    </tr>\n",
       "    <tr>\n",
       "      <th>Predict &lt;= 9%</th>\n",
       "      <td>60</td>\n",
       "      <td>131</td>\n",
       "    </tr>\n",
       "  </tbody>\n",
       "</table>\n",
       "</div>"
      ],
      "text/plain": [
       "               Actually > 9%  Actually <= 9%\n",
       "Predict > 9%             604              28\n",
       "Predict <= 9%             60             131"
      ]
     },
     "execution_count": 114,
     "metadata": {},
     "output_type": "execute_result"
    }
   ],
   "source": [
    "cmdf = pd.DataFrame(cm, index=['Predict > 9%','Predict <= 9%'], columns=['Actually > 9%', 'Actually <= 9%'])\n",
    "cmdf"
   ]
  },
  {
   "cell_type": "code",
   "execution_count": 115,
   "metadata": {},
   "outputs": [
    {
     "data": {
      "image/png": "[encoded data removed]",
      "text/plain": [
       "<Figure size 720x504 with 2 Axes>"
      ]
     },
     "metadata": {
      "needs_background": "light"
     },
     "output_type": "display_data"
    }
   ],
   "source": [
    "plt.figure(figsize = (10,7))\n",
    "sn.heatmap(cmdf, annot=True)\n",
    "plt.show()"
   ]
  },
  {
   "cell_type": "code",
   "execution_count": 109,
   "metadata": {},
   "outputs": [
    {
     "data": {
      "text/plain": [
       "0.9535091788720259"
      ]
     },
     "execution_count": 109,
     "metadata": {},
     "output_type": "execute_result"
    }
   ],
   "source": [
    "auc = roc_auc_score(y_test, p_hat_fin)\n",
    "auc"
   ]
  },
  {
   "cell_type": "code",
   "execution_count": 110,
   "metadata": {},
   "outputs": [
    {
     "name": "stdout",
     "output_type": "stream",
     "text": [
      "2.00 0.00 0.00\n",
      "1.00 0.00 0.01\n",
      "0.99 0.00 0.09\n",
      "0.99 0.00 0.09\n",
      "0.94 0.00 0.20\n",
      "0.93 0.00 0.20\n",
      "0.87 0.00 0.32\n",
      "0.87 0.00 0.32\n",
      "0.87 0.00 0.34\n",
      "0.86 0.01 0.34\n",
      "0.86 0.01 0.34\n",
      "0.85 0.01 0.34\n",
      "0.85 0.01 0.35\n",
      "0.84 0.01 0.35\n",
      "0.80 0.01 0.39\n",
      "0.79 0.02 0.39\n",
      "0.76 0.02 0.41\n",
      "0.76 0.02 0.41\n",
      "0.71 0.02 0.46\n",
      "0.70 0.02 0.46\n",
      "0.69 0.02 0.46\n",
      "0.69 0.02 0.46\n",
      "0.67 0.02 0.49\n",
      "0.67 0.02 0.49\n",
      "0.64 0.02 0.52\n",
      "0.64 0.03 0.52\n",
      "0.64 0.03 0.53\n",
      "0.63 0.03 0.53\n",
      "0.63 0.03 0.53\n",
      "0.62 0.03 0.53\n",
      "0.60 0.03 0.57\n",
      "0.59 0.03 0.57\n",
      "0.58 0.03 0.58\n",
      "0.58 0.03 0.58\n",
      "0.56 0.03 0.59\n",
      "0.55 0.04 0.59\n",
      "0.55 0.04 0.61\n",
      "0.54 0.04 0.61\n",
      "0.54 0.04 0.62\n",
      "0.54 0.04 0.62\n",
      "0.53 0.04 0.65\n",
      "0.53 0.04 0.65\n",
      "0.51 0.04 0.68\n",
      "0.51 0.04 0.68\n",
      "0.50 0.04 0.69\n",
      "0.50 0.05 0.69\n",
      "0.49 0.05 0.70\n",
      "0.49 0.05 0.70\n",
      "0.47 0.05 0.73\n",
      "0.47 0.05 0.73\n",
      "0.47 0.05 0.74\n",
      "0.44 0.05 0.74\n",
      "0.44 0.05 0.75\n",
      "0.43 0.06 0.75\n",
      "0.43 0.06 0.75\n",
      "0.43 0.06 0.75\n",
      "0.43 0.06 0.76\n",
      "0.42 0.06 0.76\n",
      "0.41 0.06 0.79\n",
      "0.40 0.06 0.79\n",
      "0.40 0.06 0.80\n",
      "0.40 0.06 0.80\n",
      "0.39 0.06 0.81\n",
      "0.36 0.07 0.81\n",
      "0.36 0.07 0.81\n",
      "0.36 0.07 0.81\n",
      "0.36 0.07 0.82\n",
      "0.35 0.08 0.82\n",
      "0.35 0.08 0.83\n",
      "0.34 0.08 0.83\n",
      "0.33 0.08 0.84\n",
      "0.32 0.08 0.84\n",
      "0.32 0.08 0.85\n",
      "0.32 0.09 0.85\n",
      "0.29 0.09 0.87\n",
      "0.27 0.10 0.87\n",
      "0.27 0.10 0.87\n",
      "0.24 0.11 0.87\n",
      "0.24 0.11 0.88\n",
      "0.23 0.12 0.88\n",
      "0.23 0.12 0.88\n",
      "0.22 0.12 0.88\n",
      "0.22 0.12 0.89\n",
      "0.21 0.13 0.89\n",
      "0.21 0.13 0.90\n",
      "0.21 0.14 0.90\n",
      "0.21 0.14 0.90\n",
      "0.21 0.14 0.90\n",
      "0.21 0.14 0.91\n",
      "0.20 0.14 0.91\n",
      "0.20 0.14 0.91\n",
      "0.19 0.15 0.91\n",
      "0.19 0.15 0.92\n",
      "0.19 0.15 0.92\n",
      "0.19 0.15 0.93\n",
      "0.18 0.15 0.93\n",
      "0.18 0.15 0.93\n",
      "0.18 0.16 0.93\n",
      "0.18 0.16 0.94\n",
      "0.17 0.17 0.94\n",
      "0.17 0.17 0.95\n",
      "0.17 0.17 0.95\n",
      "0.17 0.17 0.96\n",
      "0.16 0.18 0.96\n",
      "0.16 0.18 0.96\n",
      "0.16 0.18 0.96\n",
      "0.16 0.18 0.97\n",
      "0.15 0.19 0.97\n",
      "0.15 0.19 0.97\n",
      "0.15 0.19 0.97\n",
      "0.15 0.19 0.98\n",
      "0.13 0.20 0.98\n",
      "0.13 0.20 0.98\n",
      "0.06 0.31 0.98\n",
      "0.06 0.31 0.98\n",
      "0.05 0.36 0.98\n",
      "0.05 0.36 0.98\n",
      "0.05 0.37 0.98\n",
      "0.05 0.37 0.99\n",
      "0.04 0.40 0.99\n",
      "0.04 0.40 0.99\n",
      "0.03 0.47 0.99\n",
      "0.03 0.48 0.99\n",
      "0.02 0.58 0.99\n",
      "0.02 0.58 0.99\n",
      "0.01 0.63 0.99\n",
      "0.01 0.63 1.00\n",
      "0.00 0.92 1.00\n",
      "0.00 0.92 1.00\n",
      "0.00 1.00 1.00\n"
     ]
    }
   ],
   "source": [
    "fpr, tpr, thr = roc_curve(y_test, p_hat_fin)\n",
    "for th, fp, tp in zip(thr, fpr, tpr):\n",
    "    print(\"{0:.2f} {1:.2f} {2:.2f}\".format(th, fp, tp))"
   ]
  },
  {
   "cell_type": "code",
   "execution_count": 111,
   "metadata": {},
   "outputs": [
    {
     "data": {
      "image/png": "[encoded data removed]",
      "text/plain": [
       "<Figure size 432x288 with 1 Axes>"
      ]
     },
     "metadata": {
      "needs_background": "light"
     },
     "output_type": "display_data"
    }
   ],
   "source": [
    "plt.plot(fpr, tpr, label=auc, color='#ff33cc', alpha=0.7)\n",
    "plt.plot(np.linspace(0,1), np.linspace(0,1), linestyle='--', alpha=0.5)\n",
    "plt.title('ROC Curve')\n",
    "plt.xlabel('FPR')\n",
    "plt.ylabel('TPR')\n",
    "plt.legend()\n",
    "plt.show()"
   ]
  },
  {
   "cell_type": "markdown",
   "metadata": {},
   "source": [
    "# Based on the results above, I would choose a threshold of .17, for an fpr of .17 and tpr of .96"
   ]
  },
  {
   "cell_type": "code",
   "execution_count": null,
   "metadata": {},
   "outputs": [],
   "source": []
  }
 ],
 "metadata": {
  "kernelspec": {
   "display_name": "Python 3",
   "language": "python",
   "name": "python3"
  },
  "language_info": {
   "codemirror_mode": {
    "name": "ipython",
    "version": 3
   },
   "file_extension": ".py",
   "mimetype": "text/x-python",
   "name": "python",
   "nbconvert_exporter": "python",
   "pygments_lexer": "ipython3",
   "version": "3.7.2"
  }
 },
 "nbformat": 4,
 "nbformat_minor": 2
}
